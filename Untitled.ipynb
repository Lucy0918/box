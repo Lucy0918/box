{
 "cells": [
  {
   "cell_type": "code",
   "execution_count": 2,
   "id": "561fad25-52c8-4f74-bfa3-6d7b1ecdc2b6",
   "metadata": {
    "tags": []
   },
   "outputs": [
    {
     "name": "stdout",
     "output_type": "stream",
     "text": [
      "Saved Mel spectrogram for Lucy_a bit confident.wav as main_voices_spectrograms\\Lucy_a bit confident.png\n",
      "Saved Mel spectrogram for Lucy_confident.wav as main_voices_spectrograms\\Lucy_confident.png\n",
      "Saved Mel spectrogram for Lucy_unconfident.mp4.wav as main_voices_spectrograms\\Lucy_unconfident.mp4.png\n"
     ]
    }
   ],
   "source": [
    "import os\n",
    "import librosa\n",
    "import numpy as np\n",
    "import matplotlib.pyplot as plt\n",
    "import librosa.display\n",
    "\n",
    "# 定义音频文件路径和目标文件夹路径\n",
    "audio_files = ['Lucy_a bit confident.wav', 'Lucy_confident.wav', 'Lucy_unconfident.mp4.wav']\n",
    "data_dir = 'hesitation_voices'\n",
    "output_dir = 'main_voices_spectrograms'\n",
    "\n",
    "# 创建输出目录，如果不存在的话\n",
    "if not os.path.exists(output_dir):\n",
    "    os.makedirs(output_dir)\n",
    "\n",
    "# 提取Mel频谱图的函数\n",
    "def extract_mel_spectrogram(file_path, n_mels=128, n_fft=2048, hop_length=512, fixed_length=128):\n",
    "    # 载入音频文件\n",
    "    y, sr = librosa.load(file_path, sr=None)\n",
    "    \n",
    "    # 计算Mel频谱图\n",
    "    S = librosa.feature.melspectrogram(y=y, sr=sr, n_mels=n_mels, n_fft=n_fft, hop_length=hop_length)\n",
    "    \n",
    "    # 转换为dB（对数尺度）\n",
    "    S_dB = librosa.power_to_db(S, ref=np.max)\n",
    "    \n",
    "    # 如果时间维度小于固定长度，则进行零填充\n",
    "    if S_dB.shape[1] < fixed_length:\n",
    "        padding = fixed_length - S_dB.shape[1]\n",
    "        S_dB = np.pad(S_dB, pad_width=((0, 0), (0, padding)), mode='constant')\n",
    "    # 如果时间维度大于固定长度，则进行裁剪\n",
    "    elif S_dB.shape[1] > fixed_length:\n",
    "        S_dB = S_dB[:, :fixed_length]\n",
    "    \n",
    "    return S_dB\n",
    "\n",
    "# 遍历指定的文件并保存Mel频谱图\n",
    "for file_name in audio_files:\n",
    "    file_path = os.path.join(data_dir, file_name)\n",
    "    \n",
    "    if os.path.exists(file_path):\n",
    "        # 提取Mel频谱图\n",
    "        mel_spectrogram = extract_mel_spectrogram(file_path)\n",
    "        \n",
    "        # 可视化并保存为PNG文件\n",
    "        plt.figure(figsize=(10, 4))\n",
    "        librosa.display.specshow(mel_spectrogram, sr=22050, hop_length=512, x_axis='time', y_axis='mel')\n",
    "        plt.colorbar(format='%+2.0f dB')\n",
    "        plt.title(f'Mel-frequency spectrogram of {file_name}')\n",
    "        \n",
    "        # 生成输出文件路径\n",
    "        output_file = os.path.join(output_dir, f'{os.path.splitext(file_name)[0]}.png')\n",
    "        \n",
    "        # 保存图像\n",
    "        plt.savefig(output_file)\n",
    "        plt.close()\n",
    "        \n",
    "        print(f'Saved Mel spectrogram for {file_name} as {output_file}')\n",
    "    else:\n",
    "        print(f\"File {file_name} not found in {data_dir}.\")\n"
   ]
  },
  {
   "cell_type": "code",
   "execution_count": 1,
   "id": "e8963cba-acbf-4a51-a524-9b76b7854162",
   "metadata": {},
   "outputs": [
    {
     "name": "stdout",
     "output_type": "stream",
     "text": [
      "每秒對應的像素數量：1.73 像素/秒\n"
     ]
    }
   ],
   "source": [
    "import librosa\n",
    "from PIL import Image\n",
    "\n",
    "# 加載音頻文件，並獲取其長度（秒）\n",
    "audio_path = 'Lucy_confident.wav'\n",
    "y, sr = librosa.load(audio_path)\n",
    "audio_duration = librosa.get_duration(y=y, sr=sr)\n",
    "\n",
    "# 加載 Mel spectrogram 圖像，並獲取其寬度（像素）\n",
    "image_path = 'main_voices_spectrograms/Lucy_confident.png'\n",
    "image = Image.open(image_path)\n",
    "image_width, image_height = image.size\n",
    "\n",
    "# 計算每秒對應的像素數\n",
    "pixels_per_second = image_width / audio_duration\n",
    "\n",
    "print(f\"每秒對應的像素數量：{pixels_per_second:.2f} 像素/秒\")\n"
   ]
  },
  {
   "cell_type": "code",
   "execution_count": 2,
   "id": "45ce29a6-8d4d-4fc6-b28c-5fd07c0653b8",
   "metadata": {
    "tags": []
   },
   "outputs": [
    {
     "name": "stdout",
     "output_type": "stream",
     "text": [
      "每秒對應的像素數量：2.35 像素/秒\n"
     ]
    }
   ],
   "source": [
    "import librosa\n",
    "from PIL import Image\n",
    "\n",
    "# 加載音頻文件，並獲取其長度（秒）\n",
    "audio_path = 'Lucy_unconfident.mp4.wav'\n",
    "y, sr = librosa.load(audio_path)\n",
    "audio_duration = librosa.get_duration(y=y, sr=sr)\n",
    "\n",
    "# 加載 Mel spectrogram 圖像，並獲取其寬度（像素）\n",
    "image_path = 'main_voices_spectrograms/Lucy_unconfident.mp4.png'\n",
    "image = Image.open(image_path)\n",
    "image_width, image_height = image.size\n",
    "\n",
    "# 計算每秒對應的像素數\n",
    "pixels_per_second = image_width / audio_duration\n",
    "\n",
    "print(f\"每秒對應的像素數量：{pixels_per_second:.2f} 像素/秒\")\n"
   ]
  },
  {
   "cell_type": "code",
   "execution_count": 3,
   "id": "fe163a69-4816-4f96-86c8-2d9a76d18ea0",
   "metadata": {
    "tags": []
   },
   "outputs": [
    {
     "name": "stdout",
     "output_type": "stream",
     "text": [
      "每秒對應的像素數量：1.65 像素/秒\n"
     ]
    }
   ],
   "source": [
    "import librosa\n",
    "from PIL import Image\n",
    "\n",
    "# 加載音頻文件，並獲取其長度（秒）\n",
    "audio_path = 'Lucy_a bit confident.wav'\n",
    "y, sr = librosa.load(audio_path)\n",
    "audio_duration = librosa.get_duration(y=y, sr=sr)\n",
    "\n",
    "# 加載 Mel spectrogram 圖像，並獲取其寬度（像素）\n",
    "image_path = 'main_voices_spectrograms/Lucy_a bit confident.png'\n",
    "image = Image.open(image_path)\n",
    "image_width, image_height = image.size\n",
    "\n",
    "# 計算每秒對應的像素數\n",
    "pixels_per_second = image_width / audio_duration\n",
    "\n",
    "print(f\"每秒對應的像素數量：{pixels_per_second:.2f} 像素/秒\")\n"
   ]
  },
  {
   "cell_type": "code",
   "execution_count": null,
   "id": "a787d39d-649e-4fdf-92e4-4c05b9ffdd03",
   "metadata": {},
   "outputs": [],
   "source": []
  }
 ],
 "metadata": {
  "kernelspec": {
   "display_name": "Python 3 (ipykernel)",
   "language": "python",
   "name": "python3"
  },
  "language_info": {
   "codemirror_mode": {
    "name": "ipython",
    "version": 3
   },
   "file_extension": ".py",
   "mimetype": "text/x-python",
   "name": "python",
   "nbconvert_exporter": "python",
   "pygments_lexer": "ipython3",
   "version": "3.11.4"
  }
 },
 "nbformat": 4,
 "nbformat_minor": 5
}
